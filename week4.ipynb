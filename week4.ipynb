{
  "nbformat": 4,
  "nbformat_minor": 0,
  "metadata": {
    "colab": {
      "provenance": [],
      "authorship_tag": "ABX9TyMBXaP4MSHNJXR0zd6/9yXY",
      "include_colab_link": true
    },
    "kernelspec": {
      "name": "python3",
      "display_name": "Python 3"
    },
    "language_info": {
      "name": "python"
    }
  },
  "cells": [
    {
      "cell_type": "markdown",
      "metadata": {
        "id": "view-in-github",
        "colab_type": "text"
      },
      "source": [
        "<a href=\"https://colab.research.google.com/github/dianhana/mesinlearning/blob/main/week4.ipynb\" target=\"_parent\"><img src=\"https://colab.research.google.com/assets/colab-badge.svg\" alt=\"Open In Colab\"/></a>"
      ]
    },
    {
      "cell_type": "code",
      "execution_count": 1,
      "metadata": {
        "colab": {
          "base_uri": "https://localhost:8080/"
        },
        "id": "1B-s8DxDMTUF",
        "outputId": "3f3cb9e9-ff6f-4c9f-f56f-e314c9c78c57"
      },
      "outputs": [
        {
          "output_type": "stream",
          "name": "stdout",
          "text": [
            "Requirement already satisfied: seaborn in /usr/local/lib/python3.11/dist-packages (0.13.2)\n",
            "Requirement already satisfied: numpy!=1.24.0,>=1.20 in /usr/local/lib/python3.11/dist-packages (from seaborn) (2.0.2)\n",
            "Requirement already satisfied: pandas>=1.2 in /usr/local/lib/python3.11/dist-packages (from seaborn) (2.2.2)\n",
            "Requirement already satisfied: matplotlib!=3.6.1,>=3.4 in /usr/local/lib/python3.11/dist-packages (from seaborn) (3.10.0)\n",
            "Requirement already satisfied: contourpy>=1.0.1 in /usr/local/lib/python3.11/dist-packages (from matplotlib!=3.6.1,>=3.4->seaborn) (1.3.1)\n",
            "Requirement already satisfied: cycler>=0.10 in /usr/local/lib/python3.11/dist-packages (from matplotlib!=3.6.1,>=3.4->seaborn) (0.12.1)\n",
            "Requirement already satisfied: fonttools>=4.22.0 in /usr/local/lib/python3.11/dist-packages (from matplotlib!=3.6.1,>=3.4->seaborn) (4.56.0)\n",
            "Requirement already satisfied: kiwisolver>=1.3.1 in /usr/local/lib/python3.11/dist-packages (from matplotlib!=3.6.1,>=3.4->seaborn) (1.4.8)\n",
            "Requirement already satisfied: packaging>=20.0 in /usr/local/lib/python3.11/dist-packages (from matplotlib!=3.6.1,>=3.4->seaborn) (24.2)\n",
            "Requirement already satisfied: pillow>=8 in /usr/local/lib/python3.11/dist-packages (from matplotlib!=3.6.1,>=3.4->seaborn) (11.1.0)\n",
            "Requirement already satisfied: pyparsing>=2.3.1 in /usr/local/lib/python3.11/dist-packages (from matplotlib!=3.6.1,>=3.4->seaborn) (3.2.1)\n",
            "Requirement already satisfied: python-dateutil>=2.7 in /usr/local/lib/python3.11/dist-packages (from matplotlib!=3.6.1,>=3.4->seaborn) (2.8.2)\n",
            "Requirement already satisfied: pytz>=2020.1 in /usr/local/lib/python3.11/dist-packages (from pandas>=1.2->seaborn) (2025.1)\n",
            "Requirement already satisfied: tzdata>=2022.7 in /usr/local/lib/python3.11/dist-packages (from pandas>=1.2->seaborn) (2025.1)\n",
            "Requirement already satisfied: six>=1.5 in /usr/local/lib/python3.11/dist-packages (from python-dateutil>=2.7->matplotlib!=3.6.1,>=3.4->seaborn) (1.17.0)\n"
          ]
        }
      ],
      "source": [
        "!pip install seaborn"
      ]
    },
    {
      "cell_type": "code",
      "source": [
        "import pandas as pd\n",
        "import numpy as np\n",
        "import matplotlib.pyplot as plt\n",
        "import seaborn as sns\n",
        "import re\n",
        "import string\n",
        "from sklearn.feature_extraction.text import CountVectorizer"
      ],
      "metadata": {
        "id": "_spDq7kPMc7r"
      },
      "execution_count": 2,
      "outputs": []
    },
    {
      "cell_type": "code",
      "source": [
        "data = {\n",
        "    'Text': [\n",
        "        \"di seluruh tempat\",\n",
        "        \"di seluruh dunia\",\n",
        "        \"dimanapun lagu cinta ini terputar\",\n",
        "        \"aku bergeleng kecil dan tersenyum tipis\",\n",
        "        \"andai lagu ini tertulis olehku\"\n",
        "    ],\n",
        "    'Sentimen': [1, 1, 0, 0, 1]  # 1 = Positif, 0 = Negatif\n",
        "}\n",
        "\n",
        "df = pd.DataFrame(data)"
      ],
      "metadata": {
        "id": "efngFR_yMkQg"
      },
      "execution_count": 3,
      "outputs": []
    },
    {
      "cell_type": "code",
      "source": [
        "print(\"dataset Awal:\")\n",
        "print(df)"
      ],
      "metadata": {
        "colab": {
          "base_uri": "https://localhost:8080/"
        },
        "id": "yW8ben-YNGJB",
        "outputId": "259f8591-f798-4bfc-e199-4e1f3042d7c2"
      },
      "execution_count": 4,
      "outputs": [
        {
          "output_type": "stream",
          "name": "stdout",
          "text": [
            "dataset Awal:\n",
            "                                      Text  Sentimen\n",
            "0                        di seluruh tempat         1\n",
            "1                         di seluruh dunia         1\n",
            "2        dimanapun lagu cinta ini terputar         0\n",
            "3  aku bergeleng kecil dan tersenyum tipis         0\n",
            "4           andai lagu ini tertulis olehku         1\n"
          ]
        }
      ]
    },
    {
      "cell_type": "code",
      "source": [
        "def clean_text(text):\n",
        "    text = text.lower()\n",
        "    text = re.sub(r'\\d+', '', text)\n",
        "    text = text.translate(str.maketrans(\"\", \"\", string.punctuation))\n",
        "    text = text.strip()\n",
        "    return text\n",
        "\n",
        "df['Cleaned_Text'] = df['Text'].apply(clean_text)"
      ],
      "metadata": {
        "id": "IgVMBYjQNWng"
      },
      "execution_count": 5,
      "outputs": []
    },
    {
      "cell_type": "code",
      "source": [
        "vectorizer = CountVectorizer()\n",
        "X = vectorizer.fit_transform(df['Cleaned_Text'])"
      ],
      "metadata": {
        "id": "gr4b8kmpNfIS"
      },
      "execution_count": 6,
      "outputs": []
    },
    {
      "cell_type": "code",
      "source": [
        "print(\"\\nfitur Kata (Unigram):\")\n",
        "print(vectorizer.get_feature_names_out())"
      ],
      "metadata": {
        "colab": {
          "base_uri": "https://localhost:8080/"
        },
        "id": "kJ9gbt5xNh8s",
        "outputId": "0c12691f-bca5-47c5-e4d2-3226ef846cba"
      },
      "execution_count": 7,
      "outputs": [
        {
          "output_type": "stream",
          "name": "stdout",
          "text": [
            "\n",
            "fitur Kata (Unigram):\n",
            "['aku' 'andai' 'bergeleng' 'cinta' 'dan' 'di' 'dimanapun' 'dunia' 'ini'\n",
            " 'kecil' 'lagu' 'olehku' 'seluruh' 'tempat' 'terputar' 'tersenyum'\n",
            " 'tertulis' 'tipis']\n"
          ]
        }
      ]
    },
    {
      "cell_type": "code",
      "source": [
        "print(\"\\nmatriks BOW (Unigram):\")\n",
        "print(X.toarray())"
      ],
      "metadata": {
        "colab": {
          "base_uri": "https://localhost:8080/"
        },
        "id": "31w2aDhjNo3Y",
        "outputId": "1e746202-fc39-4c30-d476-475583758ed2"
      },
      "execution_count": 8,
      "outputs": [
        {
          "output_type": "stream",
          "name": "stdout",
          "text": [
            "\n",
            "matriks BOW (Unigram):\n",
            "[[0 0 0 0 0 1 0 0 0 0 0 0 1 1 0 0 0 0]\n",
            " [0 0 0 0 0 1 0 1 0 0 0 0 1 0 0 0 0 0]\n",
            " [0 0 0 1 0 0 1 0 1 0 1 0 0 0 1 0 0 0]\n",
            " [1 0 1 0 1 0 0 0 0 1 0 0 0 0 0 1 0 1]\n",
            " [0 1 0 0 0 0 0 0 1 0 1 1 0 0 0 0 1 0]]\n"
          ]
        }
      ]
    },
    {
      "cell_type": "code",
      "source": [
        "vectorizer_bigram = CountVectorizer(ngram_range=(2,2))\n",
        "X_bigram = vectorizer_bigram.fit_transform(df['Cleaned_Text'])"
      ],
      "metadata": {
        "id": "W97UuD7qNtqH"
      },
      "execution_count": 9,
      "outputs": []
    },
    {
      "cell_type": "code",
      "source": [
        "print(\"\\nfitur Kata (Bigram):\")\n",
        "print(vectorizer_bigram.get_feature_names_out())"
      ],
      "metadata": {
        "colab": {
          "base_uri": "https://localhost:8080/"
        },
        "id": "0ZkcQjueNw44",
        "outputId": "60795799-6d47-4bf0-a14f-2485016f0e18"
      },
      "execution_count": 10,
      "outputs": [
        {
          "output_type": "stream",
          "name": "stdout",
          "text": [
            "\n",
            "fitur Kata (Bigram):\n",
            "['aku bergeleng' 'andai lagu' 'bergeleng kecil' 'cinta ini'\n",
            " 'dan tersenyum' 'di seluruh' 'dimanapun lagu' 'ini terputar'\n",
            " 'ini tertulis' 'kecil dan' 'lagu cinta' 'lagu ini' 'seluruh dunia'\n",
            " 'seluruh tempat' 'tersenyum tipis' 'tertulis olehku']\n"
          ]
        }
      ]
    },
    {
      "cell_type": "code",
      "source": [
        "print(\"\\nmatriks BOW (Bigram):\")\n",
        "print(X_bigram.toarray())"
      ],
      "metadata": {
        "colab": {
          "base_uri": "https://localhost:8080/"
        },
        "id": "paHYjR3SN0yj",
        "outputId": "f9c0651d-bd92-49ec-e5f5-64f6f1f88be8"
      },
      "execution_count": 11,
      "outputs": [
        {
          "output_type": "stream",
          "name": "stdout",
          "text": [
            "\n",
            "matriks BOW (Bigram):\n",
            "[[0 0 0 0 0 1 0 0 0 0 0 0 0 1 0 0]\n",
            " [0 0 0 0 0 1 0 0 0 0 0 0 1 0 0 0]\n",
            " [0 0 0 1 0 0 1 1 0 0 1 0 0 0 0 0]\n",
            " [1 0 1 0 1 0 0 0 0 1 0 0 0 0 1 0]\n",
            " [0 1 0 0 0 0 0 0 1 0 0 1 0 0 0 1]]\n"
          ]
        }
      ]
    },
    {
      "cell_type": "code",
      "source": [
        "word_freq = pd.DataFrame(X.toarray(), columns=vectorizer.get_feature_names_out()).sum().sort_values(ascending=False)\n",
        "plt.figure(figsize=(10,6))\n",
        "sns.barplot(x=word_freq.values, y=word_freq.index, palette='viridis')\n",
        "plt.title('Frekuensi Kata dalam Corpus')\n",
        "plt.xlabel('Frekuensi')\n",
        "plt.ylabel('Kata')\n",
        "plt.show()"
      ],
      "metadata": {
        "colab": {
          "base_uri": "https://localhost:8080/",
          "height": 654
        },
        "id": "8V9yuvP7N5BI",
        "outputId": "14be2423-88a1-4ad4-911e-c3f67e35b62a"
      },
      "execution_count": 13,
      "outputs": [
        {
          "output_type": "stream",
          "name": "stderr",
          "text": [
            "<ipython-input-13-bca595f23eee>:3: FutureWarning: \n",
            "\n",
            "Passing `palette` without assigning `hue` is deprecated and will be removed in v0.14.0. Assign the `y` variable to `hue` and set `legend=False` for the same effect.\n",
            "\n",
            "  sns.barplot(x=word_freq.values, y=word_freq.index, palette='viridis')\n"
          ]
        },
        {
          "output_type": "display_data",
          "data": {
            "text/plain": [
              "<Figure size 1000x600 with 1 Axes>"
            ],
            "image/png": "[encoded data removed]"
          },
          "metadata": {}
        }
      ]
    }
  ]
}